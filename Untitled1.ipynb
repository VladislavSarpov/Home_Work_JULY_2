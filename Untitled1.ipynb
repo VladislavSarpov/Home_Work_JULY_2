{
 "cells": [
  {
   "cell_type": "code",
   "execution_count": 1,
   "metadata": {},
   "outputs": [
    {
     "data": {
      "text/plain": [
       "True"
      ]
     },
     "execution_count": 1,
     "metadata": {},
     "output_type": "execute_result"
    }
   ],
   "source": [
    "long_phrase = 'Насколько проще было бы писать программы, если бы не заказчики'\n",
    "short_phrase = '640 Кб должно хватить для любых задач Билл Гейтс (по легенде)'\n",
    "len (long_phrase) > len (short_phrase)"
   ]
  },
  {
   "cell_type": "code",
   "execution_count": 29,
   "metadata": {},
   "outputs": [
    {
     "name": "stdout",
     "output_type": "stream",
     "text": [
      "Oбъём файла равен 214.69403839111328 Mb\n"
     ]
    }
   ],
   "source": [
    "x = 225123016\n",
    "b = x/1024/1024\n",
    "print ('Oбъём файла равен', b,'Mb')"
   ]
  },
  {
   "cell_type": "code",
   "execution_count": 28,
   "metadata": {
    "scrolled": true
   },
   "outputs": [
    {
     "name": "stdout",
     "output_type": "stream",
     "text": [
      "Введите число рождения 6\n",
      "Введите месяц рождения 3\n",
      "РЫБЫ\n"
     ]
    }
   ],
   "source": [
    "data = int(input('Введите число рождения '))\n",
    "month = int(input ('Введите месяц рождения '))\n",
    "if data >= 1 and month > 2:\n",
    "    print ('РЫБЫ')\n",
    "elif data <= 21 and month < 2:\n",
    "    print  ('Другой знак зодиака')"
   ]
  },
  {
   "cell_type": "code",
   "execution_count": 22,
   "metadata": {},
   "outputs": [
    {
     "name": "stdout",
     "output_type": "stream",
     "text": [
      "Введите заработанную плату в месяц: 100000\n",
      "Введите сколько процентов уходит на ипотеку: 30\n",
      "Введите сколько процентов уходит на жизнь: 50\n",
      "Введите количество премий за год: 2\n",
      "Вывод: На ипотеку было потрачено 360000.0 рублей. Было накоплено: 440000.0\n"
     ]
    }
   ],
   "source": [
    "salary = int (input ('Введите заработанную плату в месяц: '))\n",
    "mortgage = int (input ('Введите сколько процентов уходит на ипотеку: '))\n",
    "rec_expend = int (input ('Введите сколько процентов уходит на жизнь: '))\n",
    "bonus = int (input ('Введите количество премий за год: '))\n",
    "mort_summ = (salary)*(mortgage)/100*12\n",
    "rec_summ = (salary)*(rec_expend)/100*12\n",
    "rev_year = (mort_summ)+(rec_summ)\n",
    "welfare = (salary)*12+((bonus)*(salary))\n",
    "balance = (welfare)-(rev_year)\n",
    "print ('Вывод: На ипотеку было потрачено', (mort_summ),'рублей. Было накоплено:', (balance))\n",
    "\n"
   ]
  },
  {
   "cell_type": "code",
   "execution_count": null,
   "metadata": {},
   "outputs": [],
   "source": []
  },
  {
   "cell_type": "code",
   "execution_count": null,
   "metadata": {},
   "outputs": [],
   "source": []
  },
  {
   "cell_type": "code",
   "execution_count": null,
   "metadata": {},
   "outputs": [],
   "source": []
  },
  {
   "cell_type": "code",
   "execution_count": null,
   "metadata": {},
   "outputs": [],
   "source": [
    "0\n"
   ]
  }
 ],
 "metadata": {
  "kernelspec": {
   "display_name": "Python 3",
   "language": "python",
   "name": "python3"
  },
  "language_info": {
   "codemirror_mode": {
    "name": "ipython",
    "version": 3
   },
   "file_extension": ".py",
   "mimetype": "text/x-python",
   "name": "python",
   "nbconvert_exporter": "python",
   "pygments_lexer": "ipython3",
   "version": "3.7.6"
  }
 },
 "nbformat": 4,
 "nbformat_minor": 4
}
