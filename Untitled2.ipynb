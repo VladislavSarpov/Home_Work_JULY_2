{
 "cells": [
  {
   "cell_type": "code",
   "execution_count": 1,
   "metadata": {},
   "outputs": [
    {
     "data": {
      "text/plain": [
       "True"
      ]
     },
     "execution_count": 1,
     "metadata": {},
     "output_type": "execute_result"
    }
   ],
   "source": [
    "long_phrase = 'Насколько проще было бы писать программы, если бы не заказчики'\n",
    "short_phrase = '640 Кб должно хватить для любых задач Билл Гейтс (по легенде)'\n",
    "len (long_phrase) > len (short_phrase)\n"
   ]
  },
  {
   "cell_type": "code",
   "execution_count": 5,
   "metadata": {},
   "outputs": [
    {
     "name": "stdout",
     "output_type": "stream",
     "text": [
      "Oбъём файла равен 214.69403839111328 Mb\n"
     ]
    }
   ],
   "source": [
    "x = 225123016\n",
    "b = x / 1024 / 1024\n",
    "print ('Oбъём файла равен', b,'Mb')"
   ]
  },
  {
   "cell_type": "code",
   "execution_count": 4,
   "metadata": {},
   "outputs": [
    {
     "name": "stdout",
     "output_type": "stream",
     "text": [
      "Введите день рождения: 30\n",
      "Введите месяц рождения: 2\n",
      "ВВЕДЕНЫ НЕКОРРЕКТНЫЕ ДАННЫЕ\n"
     ]
    }
   ],
   "source": [
    "date = int(input(\"Введите день рождения: \"))\n",
    "month = int(input(\"Введите месяц рождения: \"))\n",
    "if date >= 19 and date <= 29 and month == 2 or month == 3 and date >= 1 and date <= 20:\n",
    "    print ('Знак зодиака: РЫБЫ')\n",
    "elif date >= 21 and date <= 31 and month == 3 or month == 4 and date >= 1 and date <= 19:\n",
    "    print ('Знак зодиака: OВЕН')\n",
    "elif date >= 20 and date <= 30 and month == 4 or month == 5 and date >= 1 and date <= 20:\n",
    "    print ('Знак зодиака: ТЕЛЕЦ')\n",
    "elif date >= 21 and date <= 31 and month == 5 or month == 6 and date >= 1 and date <= 21:\n",
    "    print ('Знак зодиака: БЛИЗНИЦЫ')\n",
    "elif date >= 22 and date <= 30 and month == 6 or month == 7 and date >= 1 and date <= 22:\n",
    "    print ('Знак зодиака: РАК')\n",
    "elif date >= 23 and date <= 31 and month == 7 or month == 8 and date >= 1 and date <= 22:\n",
    "    print ('Знак зодиака: ЛЕВ')\n",
    "elif date >= 23 and date <= 31 and month == 8 or month == 9 and date >= 1 and date <= 22:\n",
    "    print ('Знак зодиака: ДЕВА')\n",
    "elif date >= 23 and date <= 30 and month == 9 or month == 10 and date >= 1 and date <= 23:\n",
    "    print ('Знак зодиака: ВЕСЫ')\n",
    "elif date >= 24 and date <= 31 and month == 10 or month == 11 and date >= 1 and date <= 22:\n",
    "    print ('Знак зодиака: СКОРПИОН')\n",
    "elif date >= 23 and date <= 30 and month == 11 or month == 12 and date >= 1 and date <= 21:\n",
    "    print ('Знак зодиака: СТРЕЛЕЦ')\n",
    "elif date >= 22 and date <= 31 and month == 12 or month == 1 and date >= 1 and date <= 20:\n",
    "    print ('Знак зодиака: КОЗЕРОГ')\n",
    "elif date >= 21 and date <= 31 and month == 1 or month == 2 and date >= 1 and date <= 18:\n",
    "    print ('Знак зодиака: ВОДОЛЕЙ')\n",
    "else:\n",
    "    print ('ВВЕДЕНЫ НЕКОРРЕКТНЫЕ ДАННЫЕ')"
   ]
  },
  {
   "cell_type": "code",
   "execution_count": 7,
   "metadata": {},
   "outputs": [
    {
     "name": "stdout",
     "output_type": "stream",
     "text": [
      "Введите заработанную плату в месяц: 100000\n",
      "Введите сколько процентов уходит на ипотеку: 30\n",
      "Введите сколько процентов уходит на жизнь: 50\n",
      "Введите количество премий за год: 4\n",
      "Вывод: На ипотеку было потрачено 360000.0 рублей. Было накоплено: 640000.0 рублей\n"
     ]
    }
   ],
   "source": [
    "salary = int (input ('Введите заработанную плату в месяц: '))\n",
    "mortgage = int (input ('Введите сколько процентов уходит на ипотеку: '))\n",
    "rec_expend = int (input ('Введите сколько процентов уходит на жизнь: '))\n",
    "bonus = int (input ('Введите количество премий за год: '))\n",
    "mort_summ = (salary) * (mortgage) / 100 * 12\n",
    "rec_summ = (salary) * (rec_expend) / 100 * 12\n",
    "rev_year = (mort_summ) + (rec_summ)\n",
    "welfare = (salary) * 12 + ((bonus) * (salary))\n",
    "balance = (welfare) - (rev_year)\n",
    "print ('Вывод: На ипотеку было потрачено', (mort_summ),'рублей. Было накоплено:', (balance), 'рублей')\n"
   ]
  },
  {
   "cell_type": "code",
   "execution_count": null,
   "metadata": {},
   "outputs": [],
   "source": []
  },
  {
   "cell_type": "code",
   "execution_count": null,
   "metadata": {},
   "outputs": [],
   "source": []
  }
 ],
 "metadata": {
  "kernelspec": {
   "display_name": "Python 3",
   "language": "python",
   "name": "python3"
  },
  "language_info": {
   "codemirror_mode": {
    "name": "ipython",
    "version": 3
   },
   "file_extension": ".py",
   "mimetype": "text/x-python",
   "name": "python",
   "nbconvert_exporter": "python",
   "pygments_lexer": "ipython3",
   "version": "3.7.6"
  }
 },
 "nbformat": 4,
 "nbformat_minor": 4
}
